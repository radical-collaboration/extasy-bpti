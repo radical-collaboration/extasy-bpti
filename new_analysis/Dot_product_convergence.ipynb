{
 "cells": [
  {
   "cell_type": "markdown",
   "metadata": {
    "deletable": true,
    "editable": true
   },
   "source": [
    "A notebook to demo how we can look at evolution of eigenvectors over a CoCo-MD simulation.\n",
    "\n",
    "Franklin: I couln't use your data for this, the file nees to be corrupted. Also, very annoyingly, having said this would be easy to do using Fasus/Cofasus, the code seems to be playing up. \n",
    "So therefote in this notebook a) the example is from old simulations of alanine pentapeptide, so you will need to edit it straight away before you can use it and b) I am using MDTraj to load and process the trajectories. This works because the fromtrajectory() method of pca accepts both Cofasus and MDTraj trajectories as alternatives."
   ]
  },
  {
   "cell_type": "code",
   "execution_count": 15,
   "metadata": {
    "collapsed": false,
    "deletable": true,
    "editable": true
   },
   "outputs": [],
   "source": [
    "# Set-up\n",
    "import mdtraj as mdt\n",
    "from MDPlus.analysis import pca\n",
    "import numpy as np\n",
    "from matplotlib import pyplot as plt\n",
    "%matplotlib inline"
   ]
  },
  {
   "cell_type": "code",
   "execution_count": 16,
   "metadata": {
    "collapsed": false,
    "deletable": true,
    "editable": true
   },
   "outputs": [],
   "source": [
    "# Create a list of md files to be analysed\n",
    "mdfile_template = 'ncfiles/cycle{:03d}rep{:03d}.dcd'\n",
    "topfile = 'repres1.pdb'\n",
    "selection = 'name CA'\n",
    "n_cycles = 30\n",
    "n_reps = 10\n",
    "md_list = []\n",
    "for cycle in range(n_cycles):\n",
    "    for rep in range(n_reps):\n",
    "        md_list.append(mdfile_template.format(cycle,rep))"
   ]
  },
  {
   "cell_type": "code",
   "execution_count": 17,
   "metadata": {
    "collapsed": false,
    "deletable": true,
    "editable": true
   },
   "outputs": [],
   "source": [
    "# Load the whole set of trajectories\n",
    "total_traj = mdt.load(md_list, top=topfile)"
   ]
  },
  {
   "cell_type": "code",
   "execution_count": 18,
   "metadata": {
    "collapsed": false,
    "deletable": true,
    "editable": true
   },
   "outputs": [],
   "source": [
    "#cut them down to just the interesting atoms - a little more complex when you use mdtraj instead of Fasu/Cofasu\n",
    "ref = mdt.load(topfile)\n",
    "sel = ref.topology.select('name CA')\n",
    "total_traj.topology = total_traj.topology.subset(sel)\n",
    "total_traj.xyz = total_traj.xyz[:, sel]"
   ]
  },
  {
   "cell_type": "code",
   "execution_count": 19,
   "metadata": {
    "collapsed": true,
    "deletable": true,
    "editable": true
   },
   "outputs": [],
   "source": [
    "#Do pca on all the structures up to each cycle (like CoCo does), enforce 3 eigenvectors to be output\n",
    "n_vecs = 3\n",
    "pca_list = []\n",
    "for cycle in range(n_cycles):\n",
    "    istart = 0\n",
    "    iend = (cycle + 1) * n_reps\n",
    "    pca_list.append(pca.fromtrajectory(total_traj[istart:iend], req_evecs=n_vecs))"
   ]
  },
  {
   "cell_type": "code",
   "execution_count": 20,
   "metadata": {
    "collapsed": false,
    "deletable": true,
    "editable": true
   },
   "outputs": [],
   "source": [
    "# Create a list of root-mean-square inner products, each calculated from two sequential pca runs\n",
    "rmsip = []\n",
    "for i in range(len(pca_list) - 1):\n",
    "    dp_matrix = np.dot(pca_list[i].evecs, pca_list[i+1].evecs.T)\n",
    "    rmsip.append(np.sqrt((dp_matrix * dp_matrix).mean()))"
   ]
  },
  {
   "cell_type": "code",
   "execution_count": 21,
   "metadata": {
    "collapsed": false,
    "deletable": true,
    "editable": true
   },
   "outputs": [
    {
     "data": {
      "text/plain": [
       "[<matplotlib.lines.Line2D at 0x1101d2510>]"
      ]
     },
     "execution_count": 21,
     "metadata": {},
     "output_type": "execute_result"
    },
    {
     "data": {
      "image/png": "[encoded data removed]",
      "text/plain": [
       "<matplotlib.figure.Figure at 0x10e25b850>"
      ]
     },
     "metadata": {},
     "output_type": "display_data"
    }
   ],
   "source": [
    "# Now pllot it. See how the rmsip values plateau as the simulation progresses - the directions of exploration become fixed.\n",
    "plt.plot(rmsip)"
   ]
  },
  {
   "cell_type": "code",
   "execution_count": null,
   "metadata": {
    "collapsed": true,
    "deletable": true,
    "editable": true
   },
   "outputs": [],
   "source": []
  }
 ],
 "metadata": {
  "kernelspec": {
   "display_name": "Python 2",
   "language": "python",
   "name": "python2"
  },
  "language_info": {
   "codemirror_mode": {
    "name": "ipython",
    "version": 2
   },
   "file_extension": ".py",
   "mimetype": "text/x-python",
   "name": "python",
   "nbconvert_exporter": "python",
   "pygments_lexer": "ipython2",
   "version": "2.7.14"
  }
 },
 "nbformat": 4,
 "nbformat_minor": 2
}
