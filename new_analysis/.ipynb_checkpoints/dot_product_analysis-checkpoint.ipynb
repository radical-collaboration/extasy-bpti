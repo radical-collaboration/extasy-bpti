{
 "cells": [
  {
   "cell_type": "markdown",
   "metadata": {},
   "source": [
    "Notebook to look at how eigenvectors change over time in a CoCo-MD simulation"
   ]
  },
  {
   "cell_type": "code",
   "execution_count": 1,
   "metadata": {
    "collapsed": true
   },
   "outputs": [],
   "source": [
    "from MDPlus.core import Fasu, Cofasu\n",
    "from MDPlus.analysis import pca\n",
    "import numpy as np"
   ]
  },
  {
   "cell_type": "code",
   "execution_count": 2,
   "metadata": {
    "collapsed": true
   },
   "outputs": [],
   "source": [
    "n_reps = 5\n",
    "n_cycles = 10\n",
    "mdfilename_template = 'test_data/md-{}_{}.xtc'\n",
    "topology_file = 'bpti.pdb'"
   ]
  },
  {
   "cell_type": "code",
   "execution_count": 30,
   "metadata": {
    "collapsed": false
   },
   "outputs": [],
   "source": [
    "fasu_list = []\n",
    "for cycle in range(n_cycles):\n",
    "    for rep in range(n_reps):\n",
    "        fasu_list.append(Fasu(topology_file, mdfilename_template.format(cycle, rep), selection='name CA'))\n",
    "c = Cofasu(fasu_list)"
   ]
  },
  {
   "cell_type": "code",
   "execution_count": 23,
   "metadata": {
    "collapsed": false
   },
   "outputs": [
    {
     "name": "stderr",
     "output_type": "stream",
     "text": [
      "/Users/pazcal/Library/Python/2.7/lib/python/site-packages/pyPcazip-2.0.3-py2.7-macosx-10.12-x86_64.egg/MDPlus/analysis/pca.py:275: RuntimeWarning: invalid value encountered in true_divide\n",
      "  z[:,i] = z[:,i]/vv[i]\n"
     ]
    }
   ],
   "source": [
    "pca_list = []\n",
    "for cycle in range(n_cycles):\n",
    "    start_index = cycle * n_reps\n",
    "    end_index = (cycle + 1) * n_reps\n",
    "    newc = Cofasu(c.fasulist[start_index:end_index])\n",
    "    pca_list.append(pca.fromtrajectory(newc))\n",
    "    "
   ]
  },
  {
   "cell_type": "code",
   "execution_count": null,
   "metadata": {
    "collapsed": true
   },
   "outputs": [],
   "source": []
  }
 ],
 "metadata": {
  "kernelspec": {
   "display_name": "Python 2",
   "language": "python",
   "name": "python2"
  },
  "language_info": {
   "codemirror_mode": {
    "name": "ipython",
    "version": 2
   },
   "file_extension": ".py",
   "mimetype": "text/x-python",
   "name": "python",
   "nbconvert_exporter": "python",
   "pygments_lexer": "ipython2",
   "version": "2.7.14"
  }
 },
 "nbformat": 4,
 "nbformat_minor": 2
}
